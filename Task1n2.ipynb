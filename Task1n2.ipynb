{
 "cells": [
  {
   "cell_type": "markdown",
   "metadata": {},
   "source": [
    "Task 1: Data Ingestion and Cleansing"
   ]
  },
  {
   "cell_type": "code",
   "execution_count": 85,
   "metadata": {},
   "outputs": [],
   "source": [
    "import pandas as pd"
   ]
  },
  {
   "cell_type": "markdown",
   "metadata": {},
   "source": [
    "Ingest raw data files"
   ]
  },
  {
   "cell_type": "code",
   "execution_count": 137,
   "metadata": {},
   "outputs": [
    {
     "data": {
      "text/html": [
       "<div>\n",
       "<style scoped>\n",
       "    .dataframe tbody tr th:only-of-type {\n",
       "        vertical-align: middle;\n",
       "    }\n",
       "\n",
       "    .dataframe tbody tr th {\n",
       "        vertical-align: top;\n",
       "    }\n",
       "\n",
       "    .dataframe thead th {\n",
       "        text-align: right;\n",
       "    }\n",
       "</style>\n",
       "<table border=\"1\" class=\"dataframe\">\n",
       "  <thead>\n",
       "    <tr style=\"text-align: right;\">\n",
       "      <th></th>\n",
       "      <th>InteractionID</th>\n",
       "      <th>UserID</th>\n",
       "      <th>CampaignID</th>\n",
       "      <th>InteractionType</th>\n",
       "      <th>InteractionDate</th>\n",
       "      <th>TimeSpent</th>\n",
       "    </tr>\n",
       "  </thead>\n",
       "  <tbody>\n",
       "    <tr>\n",
       "      <th>0</th>\n",
       "      <td>1</td>\n",
       "      <td>101</td>\n",
       "      <td>1</td>\n",
       "      <td>Click</td>\n",
       "      <td>2023-10-01</td>\n",
       "      <td>2</td>\n",
       "    </tr>\n",
       "    <tr>\n",
       "      <th>1</th>\n",
       "      <td>2</td>\n",
       "      <td>102</td>\n",
       "      <td>2</td>\n",
       "      <td>View</td>\n",
       "      <td>2023-10-01</td>\n",
       "      <td>14</td>\n",
       "    </tr>\n",
       "    <tr>\n",
       "      <th>2</th>\n",
       "      <td>3</td>\n",
       "      <td>103</td>\n",
       "      <td>1</td>\n",
       "      <td>Click</td>\n",
       "      <td>2023-10-02</td>\n",
       "      <td>8</td>\n",
       "    </tr>\n",
       "  </tbody>\n",
       "</table>\n",
       "</div>"
      ],
      "text/plain": [
       "   InteractionID  UserID  CampaignID InteractionType InteractionDate  \\\n",
       "0              1     101           1           Click      2023-10-01   \n",
       "1              2     102           2            View      2023-10-01   \n",
       "2              3     103           1           Click      2023-10-02   \n",
       "\n",
       "   TimeSpent  \n",
       "0          2  \n",
       "1         14  \n",
       "2          8  "
      ]
     },
     "execution_count": 137,
     "metadata": {},
     "output_type": "execute_result"
    }
   ],
   "source": [
    "#read csv file\n",
    "csvread = pd.read_csv(\"csvfile.csv\")\n",
    "csvread"
   ]
  },
  {
   "cell_type": "code",
   "execution_count": 87,
   "metadata": {},
   "outputs": [
    {
     "data": {
      "text/html": [
       "<div>\n",
       "<style scoped>\n",
       "    .dataframe tbody tr th:only-of-type {\n",
       "        vertical-align: middle;\n",
       "    }\n",
       "\n",
       "    .dataframe tbody tr th {\n",
       "        vertical-align: top;\n",
       "    }\n",
       "\n",
       "    .dataframe thead th {\n",
       "        text-align: right;\n",
       "    }\n",
       "</style>\n",
       "<table border=\"1\" class=\"dataframe\">\n",
       "  <thead>\n",
       "    <tr style=\"text-align: right;\">\n",
       "      <th></th>\n",
       "      <th>CampaignID</th>\n",
       "      <th>CampaignName</th>\n",
       "      <th>StartDate</th>\n",
       "      <th>EndDate</th>\n",
       "    </tr>\n",
       "  </thead>\n",
       "  <tbody>\n",
       "    <tr>\n",
       "      <th>0</th>\n",
       "      <td>1</td>\n",
       "      <td>Summer Sale</td>\n",
       "      <td>2023-09-15</td>\n",
       "      <td>2023-10-15</td>\n",
       "    </tr>\n",
       "  </tbody>\n",
       "</table>\n",
       "</div>"
      ],
      "text/plain": [
       "   CampaignID CampaignName   StartDate     EndDate\n",
       "0           1  Summer Sale  2023-09-15  2023-10-15"
      ]
     },
     "execution_count": 87,
     "metadata": {},
     "output_type": "execute_result"
    }
   ],
   "source": [
    "#read json file\n",
    "jsonread = pd.read_json(\"jsonfile.json\", orient='columns')\n",
    "jsonread"
   ]
  },
  {
   "cell_type": "code",
   "execution_count": 88,
   "metadata": {},
   "outputs": [],
   "source": [
    "import xml.etree.ElementTree as et"
   ]
  },
  {
   "cell_type": "code",
   "execution_count": 89,
   "metadata": {},
   "outputs": [],
   "source": [
    "etree = et.parse('userprofile.xml') \n",
    "root = etree.getroot()"
   ]
  },
  {
   "cell_type": "code",
   "execution_count": 90,
   "metadata": {},
   "outputs": [
    {
     "data": {
      "text/plain": [
       "<Element 'Users' at 0x000001EC546B99E0>"
      ]
     },
     "execution_count": 90,
     "metadata": {},
     "output_type": "execute_result"
    }
   ],
   "source": [
    "root"
   ]
  },
  {
   "cell_type": "code",
   "execution_count": 91,
   "metadata": {},
   "outputs": [],
   "source": [
    "data = []"
   ]
  },
  {
   "cell_type": "code",
   "execution_count": 92,
   "metadata": {},
   "outputs": [],
   "source": [
    "def parse_element(element, item):\n",
    "    if len(list(element)) ==0:\n",
    "        item[element.tag] =element.text\n",
    "    \n",
    "    else: \n",
    "        for child in list(element):\n",
    "            parse_element(child, item)"
   ]
  },
  {
   "cell_type": "code",
   "execution_count": 93,
   "metadata": {},
   "outputs": [],
   "source": [
    "for child in root:\n",
    "    item = {}\n",
    "    parse_element(child, item)\n",
    "    data.append(item)"
   ]
  },
  {
   "cell_type": "code",
   "execution_count": 94,
   "metadata": {},
   "outputs": [
    {
     "data": {
      "text/plain": [
       "[{'UserID': '101', 'UserName': 'Alice', 'Email': 'alice@example.com'},\n",
       " {'UserID': '102', 'UserName': 'Bob', 'Email': 'bob@example.com'},\n",
       " {'UserID': '103', 'UserName': 'Charlie', 'Email': 'charlie@example.com'}]"
      ]
     },
     "execution_count": 94,
     "metadata": {},
     "output_type": "execute_result"
    }
   ],
   "source": [
    "data"
   ]
  },
  {
   "cell_type": "code",
   "execution_count": 95,
   "metadata": {},
   "outputs": [
    {
     "data": {
      "text/html": [
       "<div>\n",
       "<style scoped>\n",
       "    .dataframe tbody tr th:only-of-type {\n",
       "        vertical-align: middle;\n",
       "    }\n",
       "\n",
       "    .dataframe tbody tr th {\n",
       "        vertical-align: top;\n",
       "    }\n",
       "\n",
       "    .dataframe thead th {\n",
       "        text-align: right;\n",
       "    }\n",
       "</style>\n",
       "<table border=\"1\" class=\"dataframe\">\n",
       "  <thead>\n",
       "    <tr style=\"text-align: right;\">\n",
       "      <th></th>\n",
       "      <th>UserID</th>\n",
       "      <th>UserName</th>\n",
       "      <th>Email</th>\n",
       "    </tr>\n",
       "  </thead>\n",
       "  <tbody>\n",
       "    <tr>\n",
       "      <th>0</th>\n",
       "      <td>101</td>\n",
       "      <td>Alice</td>\n",
       "      <td>alice@example.com</td>\n",
       "    </tr>\n",
       "    <tr>\n",
       "      <th>1</th>\n",
       "      <td>102</td>\n",
       "      <td>Bob</td>\n",
       "      <td>bob@example.com</td>\n",
       "    </tr>\n",
       "    <tr>\n",
       "      <th>2</th>\n",
       "      <td>103</td>\n",
       "      <td>Charlie</td>\n",
       "      <td>charlie@example.com</td>\n",
       "    </tr>\n",
       "  </tbody>\n",
       "</table>\n",
       "</div>"
      ],
      "text/plain": [
       "  UserID UserName                Email\n",
       "0    101    Alice    alice@example.com\n",
       "1    102      Bob      bob@example.com\n",
       "2    103  Charlie  charlie@example.com"
      ]
     },
     "execution_count": 95,
     "metadata": {},
     "output_type": "execute_result"
    }
   ],
   "source": [
    "#read xml file\n",
    "xmlread = pd.DataFrame(data)\n",
    "xmlread"
   ]
  },
  {
   "cell_type": "markdown",
   "metadata": {},
   "source": [
    "Datatype Conversion"
   ]
  },
  {
   "cell_type": "code",
   "execution_count": 102,
   "metadata": {},
   "outputs": [],
   "source": [
    "#datatype conversion for user profiles table\n",
    "xmlread['UserID'] = xmlread['UserID'].astype('int32')\n",
    "xmlread['UserName'] = xmlread['UserName'].astype('string')\n",
    "xmlread['Email'] = xmlread['Email'].astype('string')"
   ]
  },
  {
   "cell_type": "code",
   "execution_count": 103,
   "metadata": {},
   "outputs": [
    {
     "name": "stdout",
     "output_type": "stream",
     "text": [
      "int32\n",
      "string\n",
      "string\n"
     ]
    }
   ],
   "source": [
    "print(xmlread['UserID'].dtypes)\n",
    "print(xmlread['UserName'].dtypes)\n",
    "print(xmlread['Email'].dtypes)"
   ]
  },
  {
   "cell_type": "code",
   "execution_count": 98,
   "metadata": {},
   "outputs": [],
   "source": [
    "#datatype conversion for campaign details table\n",
    "jsonread['CampaignID'] = jsonread['CampaignID'].astype('int32')\n",
    "jsonread['CampaignName'] = jsonread['CampaignName'].astype('string')\n",
    "jsonread['StartDate'] = jsonread['StartDate'].astype('datetime64[s]')\n",
    "jsonread['EndDate'] = jsonread['EndDate'].astype('datetime64[s]')"
   ]
  },
  {
   "cell_type": "code",
   "execution_count": 99,
   "metadata": {},
   "outputs": [
    {
     "name": "stdout",
     "output_type": "stream",
     "text": [
      "int32\n",
      "string\n",
      "datetime64[s]\n",
      "datetime64[s]\n"
     ]
    }
   ],
   "source": [
    "print(jsonread['CampaignID'].dtypes)\n",
    "print(jsonread['CampaignName'].dtypes)\n",
    "print(jsonread['StartDate'].dtypes)\n",
    "print(jsonread['EndDate'].dtypes)"
   ]
  },
  {
   "cell_type": "code",
   "execution_count": 138,
   "metadata": {},
   "outputs": [],
   "source": [
    "#datatype conversion for customer interactions table\n",
    "csvread['InteractionID'] = csvread['InteractionID'].astype('int32')\n",
    "csvread['UserID'] = csvread['UserID'].astype('int32')\n",
    "csvread['CampaignID'] = csvread['CampaignID'].astype('int32')\n",
    "csvread['InteractionType'] = csvread['InteractionType'].astype('string')\n",
    "csvread['InteractionDate'] = csvread['InteractionDate'].astype('datetime64[s]')\n",
    "csvread['TimeSpent'] = csvread['TimeSpent'].astype('int32')"
   ]
  },
  {
   "cell_type": "code",
   "execution_count": 139,
   "metadata": {},
   "outputs": [
    {
     "name": "stdout",
     "output_type": "stream",
     "text": [
      "int32\n",
      "int32\n",
      "int32\n",
      "string\n",
      "datetime64[s]\n",
      "int32\n"
     ]
    }
   ],
   "source": [
    "print(csvread['InteractionID'].dtypes)\n",
    "print(csvread['UserID'].dtypes)\n",
    "print(csvread['CampaignID'].dtypes)\n",
    "print(csvread['InteractionType'].dtypes)\n",
    "print(csvread['InteractionDate'].dtypes)\n",
    "print(csvread['TimeSpent'].dtypes)"
   ]
  },
  {
   "cell_type": "markdown",
   "metadata": {},
   "source": [
    "Handling missing values"
   ]
  },
  {
   "cell_type": "code",
   "execution_count": 36,
   "metadata": {},
   "outputs": [],
   "source": [
    "#handling null values\n",
    "csvread.replace('nan.nan', '-',inplace=True)\n",
    "jsonread.replace('nan.nan', '-',inplace=True)\n",
    "xmlread.replace('nan.nan', '-',inplace=True)"
   ]
  },
  {
   "cell_type": "markdown",
   "metadata": {},
   "source": [
    "Remove Duplicates"
   ]
  },
  {
   "cell_type": "code",
   "execution_count": 132,
   "metadata": {},
   "outputs": [],
   "source": [
    "#removing duplicates based on unique identifiers\n",
    "csvread.drop_duplicates(subset=['InteractionID'], inplace=True)\n",
    "jsonread.drop_duplicates(subset=['CampaignID'], inplace=True)\n",
    "xmlread.drop_duplicates(subset=['UserID'], inplace=True)"
   ]
  },
  {
   "cell_type": "markdown",
   "metadata": {},
   "source": [
    "Load data to database"
   ]
  },
  {
   "cell_type": "code",
   "execution_count": 15,
   "metadata": {},
   "outputs": [],
   "source": [
    "import pyodbc\n",
    "from sqlalchemy import create_engine\n",
    "import pandas as pd"
   ]
  },
  {
   "cell_type": "code",
   "execution_count": 14,
   "metadata": {},
   "outputs": [],
   "source": [
    "SERVER='karie666.database.windows.net'\n",
    "DATABASE='kariedb'\n",
    "DRIVER='ODBC Driver 17 for SQL Server'\n",
    "USERNAME='destiny'\n",
    "PASSWORD='karie1234A2'\n",
    "ODBC_PARAMETERS=f'Driver={DRIVER};Server=tcp:{SERVER},1433;Database={DATABASE};Uid={USERNAME};Pwd={PASSWORD};Encrypt=yes;TrustServerCertificate=no;Connection Timeout=30;'"
   ]
  },
  {
   "cell_type": "code",
   "execution_count": 15,
   "metadata": {},
   "outputs": [
    {
     "name": "stdout",
     "output_type": "stream",
     "text": [
      "connection is ok\n"
     ]
    }
   ],
   "source": [
    "CONNECTION_STRING = f'mssql+pyodbc:///?odbc_connect={ODBC_PARAMETERS}'\n",
    "engine = create_engine(CONNECTION_STRING,echo=True)\n",
    "print(\"connection is ok\")"
   ]
  },
  {
   "cell_type": "code",
   "execution_count": 141,
   "metadata": {},
   "outputs": [
    {
     "name": "stdout",
     "output_type": "stream",
     "text": [
      "2024-05-30 15:10:39,782 INFO sqlalchemy.engine.Engine BEGIN (implicit)\n",
      "2024-05-30 15:10:39,788 INFO sqlalchemy.engine.Engine SELECT [INFORMATION_SCHEMA].[TABLES].[TABLE_NAME] \n",
      "FROM [INFORMATION_SCHEMA].[TABLES] \n",
      "WHERE ([INFORMATION_SCHEMA].[TABLES].[TABLE_TYPE] = CAST(? AS NVARCHAR(max)) OR [INFORMATION_SCHEMA].[TABLES].[TABLE_TYPE] = CAST(? AS NVARCHAR(max))) AND [INFORMATION_SCHEMA].[TABLES].[TABLE_NAME] = CAST(? AS NVARCHAR(max)) AND [INFORMATION_SCHEMA].[TABLES].[TABLE_SCHEMA] = CAST(? AS NVARCHAR(max))\n",
      "2024-05-30 15:10:39,789 INFO sqlalchemy.engine.Engine [cached since 1.437e+04s ago] ('BASE TABLE', 'VIEW', 'stg_customer_interactions', 'dbo')\n",
      "2024-05-30 15:10:39,856 INFO sqlalchemy.engine.Engine \n",
      "CREATE TABLE stg_customer_interactions (\n",
      "\t[InteractionID] INTEGER NULL, \n",
      "\t[UserID] INTEGER NULL, \n",
      "\t[CampaignID] INTEGER NULL, \n",
      "\t[InteractionType] VARCHAR(max) NULL, \n",
      "\t[InteractionDate] DATETIME NULL, \n",
      "\t[TimeSpent] INTEGER NULL\n",
      ")\n",
      "\n",
      "\n",
      "2024-05-30 15:10:39,859 INFO sqlalchemy.engine.Engine [no key 0.00210s] ()\n",
      "2024-05-30 15:10:39,884 INFO sqlalchemy.engine.Engine INSERT INTO stg_customer_interactions ([InteractionID], [UserID], [CampaignID], [InteractionType], [InteractionDate], [TimeSpent]) VALUES (?, ?, ?, ?, ?, ?), (?, ?, ?, ?, ?, ?), (?, ?, ?, ?, ?, ?)\n",
      "2024-05-30 15:10:39,885 INFO sqlalchemy.engine.Engine [generated in 0.00043s (insertmanyvalues) 1/1 (unordered)] (1, 101, 1, 'Click', datetime.datetime(2023, 10, 1, 0, 0), 2, 2, 102, 2, 'View', datetime.datetime(2023, 10, 1, 0, 0), 14, 3, 103, 1, 'Click', datetime.datetime(2023, 10, 2, 0, 0), 8)\n",
      "2024-05-30 15:10:39,920 INFO sqlalchemy.engine.Engine COMMIT\n"
     ]
    },
    {
     "data": {
      "text/plain": [
       "3"
      ]
     },
     "execution_count": 141,
     "metadata": {},
     "output_type": "execute_result"
    }
   ],
   "source": [
    "csvread.to_sql('stg_customer_interactions', con=engine, index=False)"
   ]
  },
  {
   "cell_type": "code",
   "execution_count": 100,
   "metadata": {},
   "outputs": [
    {
     "name": "stdout",
     "output_type": "stream",
     "text": [
      "2024-05-30 11:59:46,344 INFO sqlalchemy.engine.Engine BEGIN (implicit)\n",
      "2024-05-30 11:59:46,347 INFO sqlalchemy.engine.Engine SELECT [INFORMATION_SCHEMA].[TABLES].[TABLE_NAME] \n",
      "FROM [INFORMATION_SCHEMA].[TABLES] \n",
      "WHERE ([INFORMATION_SCHEMA].[TABLES].[TABLE_TYPE] = CAST(? AS NVARCHAR(max)) OR [INFORMATION_SCHEMA].[TABLES].[TABLE_TYPE] = CAST(? AS NVARCHAR(max))) AND [INFORMATION_SCHEMA].[TABLES].[TABLE_NAME] = CAST(? AS NVARCHAR(max)) AND [INFORMATION_SCHEMA].[TABLES].[TABLE_SCHEMA] = CAST(? AS NVARCHAR(max))\n",
      "2024-05-30 11:59:46,348 INFO sqlalchemy.engine.Engine [cached since 2916s ago] ('BASE TABLE', 'VIEW', 'stg_campaign_details', 'dbo')\n",
      "2024-05-30 11:59:46,396 INFO sqlalchemy.engine.Engine \n",
      "CREATE TABLE stg_campaign_details (\n",
      "\t[CampaignID] INTEGER NULL, \n",
      "\t[CampaignName] VARCHAR(max) NULL, \n",
      "\t[StartDate] DATETIME NULL, \n",
      "\t[EndDate] DATETIME NULL\n",
      ")\n",
      "\n",
      "\n",
      "2024-05-30 11:59:46,397 INFO sqlalchemy.engine.Engine [no key 0.00119s] ()\n",
      "2024-05-30 11:59:46,437 INFO sqlalchemy.engine.Engine INSERT INTO stg_campaign_details ([CampaignID], [CampaignName], [StartDate], [EndDate]) VALUES (?, ?, ?, ?)\n",
      "2024-05-30 11:59:46,437 INFO sqlalchemy.engine.Engine [generated in 0.00112s] (1, 'Summer Sale', datetime.datetime(2023, 9, 15, 0, 0), datetime.datetime(2023, 10, 15, 0, 0))\n",
      "2024-05-30 11:59:46,469 INFO sqlalchemy.engine.Engine COMMIT\n"
     ]
    },
    {
     "data": {
      "text/plain": [
       "1"
      ]
     },
     "execution_count": 100,
     "metadata": {},
     "output_type": "execute_result"
    }
   ],
   "source": [
    "jsonread.to_sql('stg_campaign_details', con=engine, index=False)"
   ]
  },
  {
   "cell_type": "code",
   "execution_count": 104,
   "metadata": {},
   "outputs": [
    {
     "name": "stdout",
     "output_type": "stream",
     "text": [
      "2024-05-30 12:00:56,872 INFO sqlalchemy.engine.Engine BEGIN (implicit)\n",
      "2024-05-30 12:00:56,875 INFO sqlalchemy.engine.Engine SELECT [INFORMATION_SCHEMA].[TABLES].[TABLE_NAME] \n",
      "FROM [INFORMATION_SCHEMA].[TABLES] \n",
      "WHERE ([INFORMATION_SCHEMA].[TABLES].[TABLE_TYPE] = CAST(? AS NVARCHAR(max)) OR [INFORMATION_SCHEMA].[TABLES].[TABLE_TYPE] = CAST(? AS NVARCHAR(max))) AND [INFORMATION_SCHEMA].[TABLES].[TABLE_NAME] = CAST(? AS NVARCHAR(max)) AND [INFORMATION_SCHEMA].[TABLES].[TABLE_SCHEMA] = CAST(? AS NVARCHAR(max))\n",
      "2024-05-30 12:00:56,876 INFO sqlalchemy.engine.Engine [cached since 2987s ago] ('BASE TABLE', 'VIEW', 'stg_user_profiles', 'dbo')\n",
      "2024-05-30 12:00:56,912 INFO sqlalchemy.engine.Engine \n",
      "CREATE TABLE stg_user_profiles (\n",
      "\t[UserID] INTEGER NULL, \n",
      "\t[UserName] VARCHAR(max) NULL, \n",
      "\t[Email] VARCHAR(max) NULL\n",
      ")\n",
      "\n",
      "\n",
      "2024-05-30 12:00:56,913 INFO sqlalchemy.engine.Engine [no key 0.00130s] ()\n",
      "2024-05-30 12:00:56,933 INFO sqlalchemy.engine.Engine INSERT INTO stg_user_profiles ([UserID], [UserName], [Email]) VALUES (?, ?, ?), (?, ?, ?), (?, ?, ?)\n",
      "2024-05-30 12:00:56,935 INFO sqlalchemy.engine.Engine [generated in 0.00024s (insertmanyvalues) 1/1 (unordered)] (101, 'Alice', 'alice@example.com', 102, 'Bob', 'bob@example.com', 103, 'Charlie', 'charlie@example.com')\n",
      "2024-05-30 12:00:56,971 INFO sqlalchemy.engine.Engine COMMIT\n"
     ]
    },
    {
     "data": {
      "text/plain": [
       "3"
      ]
     },
     "execution_count": 104,
     "metadata": {},
     "output_type": "execute_result"
    }
   ],
   "source": [
    "xmlread.to_sql('stg_user_profiles', con=engine, index=False)"
   ]
  },
  {
   "cell_type": "code",
   "execution_count": 143,
   "metadata": {},
   "outputs": [
    {
     "name": "stdout",
     "output_type": "stream",
     "text": [
      "2024-05-30 15:12:40,467 INFO sqlalchemy.engine.Engine BEGIN (implicit)\n",
      "2024-05-30 15:12:40,468 INFO sqlalchemy.engine.Engine SELECT [INFORMATION_SCHEMA].[TABLES].[TABLE_NAME] \n",
      "FROM [INFORMATION_SCHEMA].[TABLES] \n",
      "WHERE ([INFORMATION_SCHEMA].[TABLES].[TABLE_TYPE] = CAST(? AS NVARCHAR(max)) OR [INFORMATION_SCHEMA].[TABLES].[TABLE_TYPE] = CAST(? AS NVARCHAR(max))) AND [INFORMATION_SCHEMA].[TABLES].[TABLE_NAME] = CAST(? AS NVARCHAR(max)) AND [INFORMATION_SCHEMA].[TABLES].[TABLE_SCHEMA] = CAST(? AS NVARCHAR(max))\n",
      "2024-05-30 15:12:40,469 INFO sqlalchemy.engine.Engine [cached since 1.449e+04s ago] ('BASE TABLE', 'VIEW', 'SELECT * FROM [dbo].[stg_customer_interactions]', 'dbo')\n",
      "2024-05-30 15:12:40,505 INFO sqlalchemy.engine.Engine SELECT * FROM [dbo].[stg_customer_interactions]\n",
      "2024-05-30 15:12:40,507 INFO sqlalchemy.engine.Engine [raw sql] ()\n",
      "2024-05-30 15:12:40,532 INFO sqlalchemy.engine.Engine ROLLBACK\n"
     ]
    }
   ],
   "source": [
    "query= \"SELECT * FROM [dbo].[stg_customer_interactions]\"\n",
    "customer_interact=pd.read_sql(query,engine)"
   ]
  },
  {
   "cell_type": "code",
   "execution_count": 144,
   "metadata": {},
   "outputs": [
    {
     "data": {
      "text/html": [
       "<div>\n",
       "<style scoped>\n",
       "    .dataframe tbody tr th:only-of-type {\n",
       "        vertical-align: middle;\n",
       "    }\n",
       "\n",
       "    .dataframe tbody tr th {\n",
       "        vertical-align: top;\n",
       "    }\n",
       "\n",
       "    .dataframe thead th {\n",
       "        text-align: right;\n",
       "    }\n",
       "</style>\n",
       "<table border=\"1\" class=\"dataframe\">\n",
       "  <thead>\n",
       "    <tr style=\"text-align: right;\">\n",
       "      <th></th>\n",
       "      <th>InteractionID</th>\n",
       "      <th>UserID</th>\n",
       "      <th>CampaignID</th>\n",
       "      <th>InteractionType</th>\n",
       "      <th>InteractionDate</th>\n",
       "      <th>TimeSpent</th>\n",
       "    </tr>\n",
       "  </thead>\n",
       "  <tbody>\n",
       "    <tr>\n",
       "      <th>0</th>\n",
       "      <td>1</td>\n",
       "      <td>101</td>\n",
       "      <td>1</td>\n",
       "      <td>Click</td>\n",
       "      <td>2023-10-01</td>\n",
       "      <td>2</td>\n",
       "    </tr>\n",
       "    <tr>\n",
       "      <th>1</th>\n",
       "      <td>2</td>\n",
       "      <td>102</td>\n",
       "      <td>2</td>\n",
       "      <td>View</td>\n",
       "      <td>2023-10-01</td>\n",
       "      <td>14</td>\n",
       "    </tr>\n",
       "    <tr>\n",
       "      <th>2</th>\n",
       "      <td>3</td>\n",
       "      <td>103</td>\n",
       "      <td>1</td>\n",
       "      <td>Click</td>\n",
       "      <td>2023-10-02</td>\n",
       "      <td>8</td>\n",
       "    </tr>\n",
       "  </tbody>\n",
       "</table>\n",
       "</div>"
      ],
      "text/plain": [
       "   InteractionID  UserID  CampaignID InteractionType InteractionDate  \\\n",
       "0              1     101           1           Click      2023-10-01   \n",
       "1              2     102           2            View      2023-10-01   \n",
       "2              3     103           1           Click      2023-10-02   \n",
       "\n",
       "   TimeSpent  \n",
       "0          2  \n",
       "1         14  \n",
       "2          8  "
      ]
     },
     "execution_count": 144,
     "metadata": {},
     "output_type": "execute_result"
    }
   ],
   "source": [
    "customer_interact"
   ]
  },
  {
   "cell_type": "code",
   "execution_count": 118,
   "metadata": {},
   "outputs": [
    {
     "name": "stdout",
     "output_type": "stream",
     "text": [
      "2024-05-30 12:10:12,215 INFO sqlalchemy.engine.Engine BEGIN (implicit)\n",
      "2024-05-30 12:10:12,216 INFO sqlalchemy.engine.Engine SELECT [INFORMATION_SCHEMA].[TABLES].[TABLE_NAME] \n",
      "FROM [INFORMATION_SCHEMA].[TABLES] \n",
      "WHERE ([INFORMATION_SCHEMA].[TABLES].[TABLE_TYPE] = CAST(? AS NVARCHAR(max)) OR [INFORMATION_SCHEMA].[TABLES].[TABLE_TYPE] = CAST(? AS NVARCHAR(max))) AND [INFORMATION_SCHEMA].[TABLES].[TABLE_NAME] = CAST(? AS NVARCHAR(max)) AND [INFORMATION_SCHEMA].[TABLES].[TABLE_SCHEMA] = CAST(? AS NVARCHAR(max))\n",
      "2024-05-30 12:10:12,217 INFO sqlalchemy.engine.Engine [cached since 3542s ago] ('BASE TABLE', 'VIEW', 'SELECT * FROM [dbo].[stg_campaign_details]', 'dbo')\n",
      "2024-05-30 12:10:12,250 INFO sqlalchemy.engine.Engine SELECT * FROM [dbo].[stg_campaign_details]\n",
      "2024-05-30 12:10:12,251 INFO sqlalchemy.engine.Engine [raw sql] ()\n",
      "2024-05-30 12:10:12,268 INFO sqlalchemy.engine.Engine ROLLBACK\n"
     ]
    }
   ],
   "source": [
    "query2= \"SELECT * FROM [dbo].[stg_campaign_details]\"\n",
    "campaign=pd.read_sql(query2,engine)"
   ]
  },
  {
   "cell_type": "code",
   "execution_count": 119,
   "metadata": {},
   "outputs": [
    {
     "data": {
      "text/html": [
       "<div>\n",
       "<style scoped>\n",
       "    .dataframe tbody tr th:only-of-type {\n",
       "        vertical-align: middle;\n",
       "    }\n",
       "\n",
       "    .dataframe tbody tr th {\n",
       "        vertical-align: top;\n",
       "    }\n",
       "\n",
       "    .dataframe thead th {\n",
       "        text-align: right;\n",
       "    }\n",
       "</style>\n",
       "<table border=\"1\" class=\"dataframe\">\n",
       "  <thead>\n",
       "    <tr style=\"text-align: right;\">\n",
       "      <th></th>\n",
       "      <th>CampaignID</th>\n",
       "      <th>CampaignName</th>\n",
       "      <th>StartDate</th>\n",
       "      <th>EndDate</th>\n",
       "    </tr>\n",
       "  </thead>\n",
       "  <tbody>\n",
       "    <tr>\n",
       "      <th>0</th>\n",
       "      <td>1</td>\n",
       "      <td>Summer Sale</td>\n",
       "      <td>2023-09-15</td>\n",
       "      <td>2023-10-15</td>\n",
       "    </tr>\n",
       "  </tbody>\n",
       "</table>\n",
       "</div>"
      ],
      "text/plain": [
       "   CampaignID CampaignName  StartDate    EndDate\n",
       "0           1  Summer Sale 2023-09-15 2023-10-15"
      ]
     },
     "execution_count": 119,
     "metadata": {},
     "output_type": "execute_result"
    }
   ],
   "source": [
    "campaign"
   ]
  },
  {
   "cell_type": "code",
   "execution_count": 116,
   "metadata": {},
   "outputs": [
    {
     "name": "stdout",
     "output_type": "stream",
     "text": [
      "2024-05-30 12:10:02,324 INFO sqlalchemy.engine.Engine BEGIN (implicit)\n",
      "2024-05-30 12:10:02,325 INFO sqlalchemy.engine.Engine SELECT [INFORMATION_SCHEMA].[TABLES].[TABLE_NAME] \n",
      "FROM [INFORMATION_SCHEMA].[TABLES] \n",
      "WHERE ([INFORMATION_SCHEMA].[TABLES].[TABLE_TYPE] = CAST(? AS NVARCHAR(max)) OR [INFORMATION_SCHEMA].[TABLES].[TABLE_TYPE] = CAST(? AS NVARCHAR(max))) AND [INFORMATION_SCHEMA].[TABLES].[TABLE_NAME] = CAST(? AS NVARCHAR(max)) AND [INFORMATION_SCHEMA].[TABLES].[TABLE_SCHEMA] = CAST(? AS NVARCHAR(max))\n",
      "2024-05-30 12:10:02,326 INFO sqlalchemy.engine.Engine [cached since 3532s ago] ('BASE TABLE', 'VIEW', 'SELECT * FROM [dbo].[stg_user_profiles]', 'dbo')\n",
      "2024-05-30 12:10:02,362 INFO sqlalchemy.engine.Engine SELECT * FROM [dbo].[stg_user_profiles]\n",
      "2024-05-30 12:10:02,363 INFO sqlalchemy.engine.Engine [raw sql] ()\n",
      "2024-05-30 12:10:02,379 INFO sqlalchemy.engine.Engine ROLLBACK\n"
     ]
    }
   ],
   "source": [
    "query3= \"SELECT * FROM [dbo].[stg_user_profiles]\"\n",
    "user=pd.read_sql(query3,engine)"
   ]
  },
  {
   "cell_type": "code",
   "execution_count": 117,
   "metadata": {},
   "outputs": [
    {
     "data": {
      "text/html": [
       "<div>\n",
       "<style scoped>\n",
       "    .dataframe tbody tr th:only-of-type {\n",
       "        vertical-align: middle;\n",
       "    }\n",
       "\n",
       "    .dataframe tbody tr th {\n",
       "        vertical-align: top;\n",
       "    }\n",
       "\n",
       "    .dataframe thead th {\n",
       "        text-align: right;\n",
       "    }\n",
       "</style>\n",
       "<table border=\"1\" class=\"dataframe\">\n",
       "  <thead>\n",
       "    <tr style=\"text-align: right;\">\n",
       "      <th></th>\n",
       "      <th>UserID</th>\n",
       "      <th>UserName</th>\n",
       "      <th>Email</th>\n",
       "    </tr>\n",
       "  </thead>\n",
       "  <tbody>\n",
       "    <tr>\n",
       "      <th>0</th>\n",
       "      <td>101</td>\n",
       "      <td>Alice</td>\n",
       "      <td>alice@example.com</td>\n",
       "    </tr>\n",
       "    <tr>\n",
       "      <th>1</th>\n",
       "      <td>102</td>\n",
       "      <td>Bob</td>\n",
       "      <td>bob@example.com</td>\n",
       "    </tr>\n",
       "    <tr>\n",
       "      <th>2</th>\n",
       "      <td>103</td>\n",
       "      <td>Charlie</td>\n",
       "      <td>charlie@example.com</td>\n",
       "    </tr>\n",
       "  </tbody>\n",
       "</table>\n",
       "</div>"
      ],
      "text/plain": [
       "   UserID UserName                Email\n",
       "0     101    Alice    alice@example.com\n",
       "1     102      Bob      bob@example.com\n",
       "2     103  Charlie  charlie@example.com"
      ]
     },
     "execution_count": 117,
     "metadata": {},
     "output_type": "execute_result"
    }
   ],
   "source": [
    "user"
   ]
  },
  {
   "cell_type": "markdown",
   "metadata": {},
   "source": [
    "Task 2: Data Transformation and Aggregation"
   ]
  },
  {
   "cell_type": "code",
   "execution_count": 131,
   "metadata": {},
   "outputs": [
    {
     "name": "stdout",
     "output_type": "stream",
     "text": [
      "   CampaignID  Total_Interactions_Per_Campaign\n",
      "0           1                                2\n",
      "1           2                                1\n"
     ]
    }
   ],
   "source": [
    "#calculate the total number of interactions per campaign and store the results\n",
    "total_interactions = customer_interact.groupby('CampaignID').agg(Total_Interactions_Per_Campaign=('InteractionID', 'count')).reset_index()\n",
    "result = total_interactions\n",
    "print(result)\n"
   ]
  },
  {
   "cell_type": "code",
   "execution_count": 149,
   "metadata": {},
   "outputs": [
    {
     "name": "stdout",
     "output_type": "stream",
     "text": [
      "   UserID  Average_Time_Spent\n",
      "0     101                 2.0\n",
      "1     102                14.0\n",
      "2     103                 8.0\n"
     ]
    }
   ],
   "source": [
    "#calculate the average time spent on the website for each user and store the results\n",
    "#no time available, hence i added a column name \"TimeSpent\" in this case\n",
    "time_spent = customer_interact.groupby('UserID').agg(Average_Time_Spent=('TimeSpent', 'mean')).reset_index()\n",
    "result2 = time_spent\n",
    "print(result2)"
   ]
  },
  {
   "cell_type": "code",
   "execution_count": 155,
   "metadata": {},
   "outputs": [
    {
     "name": "stdout",
     "output_type": "stream",
     "text": [
      "   UserID UserName                Email  Average_Time_Spent\n",
      "0     101    Alice    alice@example.com                 2.0\n",
      "1     102      Bob      bob@example.com                14.0\n",
      "2     103  Charlie  charlie@example.com                 8.0\n"
     ]
    }
   ],
   "source": [
    "#aggregate customer data to create a summary table with key customer metrics\n",
    "summary = user.merge(result2, on='UserID', how='left')\n",
    "print(summary)"
   ]
  }
 ],
 "metadata": {
  "kernelspec": {
   "display_name": ".venv",
   "language": "python",
   "name": "python3"
  },
  "language_info": {
   "codemirror_mode": {
    "name": "ipython",
    "version": 3
   },
   "file_extension": ".py",
   "mimetype": "text/x-python",
   "name": "python",
   "nbconvert_exporter": "python",
   "pygments_lexer": "ipython3",
   "version": "3.10.10"
  }
 },
 "nbformat": 4,
 "nbformat_minor": 2
}
